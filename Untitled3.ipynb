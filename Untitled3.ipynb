{
  "nbformat": 4,
  "nbformat_minor": 0,
  "metadata": {
    "colab": {
      "provenance": [],
      "authorship_tag": "ABX9TyMzIrI0QH9T8CrdmPVV+Xb5",
      "include_colab_link": true
    },
    "kernelspec": {
      "name": "python3",
      "display_name": "Python 3"
    },
    "language_info": {
      "name": "python"
    }
  },
  "cells": [
    {
      "cell_type": "markdown",
      "metadata": {
        "id": "view-in-github",
        "colab_type": "text"
      },
      "source": [
        "<a href=\"https://colab.research.google.com/github/mounikaa09/mounika/blob/main/Untitled3.ipynb\" target=\"_parent\"><img src=\"https://colab.research.google.com/assets/colab-badge.svg\" alt=\"Open In Colab\"/></a>"
      ]
    },
    {
      "cell_type": "code",
      "execution_count": 1,
      "metadata": {
        "colab": {
          "base_uri": "https://localhost:8080/"
        },
        "id": "umm2XdRYPzdX",
        "outputId": "0f13385d-5c97-43e0-a946-ef69d23d222b"
      },
      "outputs": [
        {
          "output_type": "stream",
          "name": "stdout",
          "text": [
            "Epoch 1/2\n",
            "1/1 [==============================] - 2s 2s/step - loss: 0.6930 - accuracy: 0.5000\n",
            "Epoch 2/2\n",
            "1/1 [==============================] - 0s 60ms/step - loss: 0.6921 - accuracy: 0.5000\n",
            "Test loss: 0.6902543306350708\n",
            "Test accuracy: 0.5\n",
            "Enter a sentance : hi\n",
            "1/1 [==============================] - 0s 172ms/step\n",
            "New Sentence: hi\n",
            "Sentiment: Positive\n"
          ]
        }
      ],
      "source": [
        "import tensorflow as tf\n",
        "from tensorflow.keras.preprocessing.text import Tokenizer\n",
        "from tensorflow.keras.models import Sequential\n",
        "from tensorflow.keras.layers import Embedding, Conv1D, MaxPooling1D, GlobalMaxPooling1D, Dense\n",
        "\n",
        "# Sample texts and labels\n",
        "texts = [\"This is a positive sentence.\", \"This is a negative sentence.\"]\n",
        "labels = [1, 0]  # 1 for positive, 0 for negative\n",
        "\n",
        "# Tokenize the texts\n",
        "tokenizer = Tokenizer(num_words=10000)\n",
        "tokenizer.fit_on_texts(texts)\n",
        "sequences = tokenizer.texts_to_sequences(texts)\n",
        "data = tf.keras.preprocessing.sequence.pad_sequences(sequences, maxlen=100)\n",
        "\n",
        "# Convert labels to numpy array\n",
        "labels = tf.convert_to_tensor(labels)\n",
        "\n",
        "# Define the model\n",
        "model = Sequential()\n",
        "model.add(Embedding(10000, 128))\n",
        "model.add(Conv1D(128, 5, activation='relu'))\n",
        "model.add(MaxPooling1D(pool_size=5))\n",
        "model.add(Conv1D(128, 5, activation='relu'))\n",
        "model.add(GlobalMaxPooling1D())\n",
        "model.add(Dense(1, activation='sigmoid'))\n",
        "\n",
        "# Compile the model\n",
        "model.compile(loss='binary_crossentropy', optimizer='adam', metrics=['accuracy'])\n",
        "\n",
        "# Train the model\n",
        "model.fit(data, labels, epochs=2, batch_size=32, verbose=1)\n",
        "\n",
        "# Evaluate the model\n",
        "loss, accuracy = model.evaluate(data, labels, verbose=0)\n",
        "print('Test loss:', loss)\n",
        "print('Test accuracy:', accuracy)\n",
        "\n",
        "# Predict the sentiment of a new sentence\n",
        "new_sentence = input(\"Enter a sentance : \")\n",
        "sequence = tokenizer.texts_to_sequences([new_sentence])\n",
        "data = tf.keras.preprocessing.sequence.pad_sequences(sequence, maxlen=100)\n",
        "prediction = model.predict(data)[0][0]\n",
        "\n",
        "if prediction > 0.5:\n",
        "    print('New Sentence:', new_sentence)\n",
        "    print('Sentiment: Positive')\n",
        "else:\n",
        "    print('New Sentence:', new_sentence)\n",
        "    print('Sentiment: Negative')"
      ]
    }
  ]
}